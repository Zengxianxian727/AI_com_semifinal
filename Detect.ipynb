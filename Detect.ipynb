{
 "cells": [
  {
   "cell_type": "code",
   "execution_count": 6,
   "metadata": {},
   "outputs": [],
   "source": [
    "import tensorflow as tf\n",
    "from tensorflow import keras\n",
    "from tensorflow.keras import layers\n",
    "from utils import *\n",
    "import struct\n",
    "import numpy as np\n",
    "from model_define import MyModel,NMSE_loss"
   ]
  },
  {
   "cell_type": "markdown",
   "metadata": {},
   "source": [
    "# 测试与生成提交文件"
   ]
  },
  {
   "cell_type": "code",
   "execution_count": 7,
   "metadata": {},
   "outputs": [],
   "source": [
    "def decode(Y,Pilotnum):\n",
    "    model_input = keras.Input(shape=(1,256,8))\n",
    "    model_output = MyModel(model_input)\n",
    "    model = keras.Model(inputs=model_input, outputs=model_output)\n",
    "\n",
    "    model.compile(\n",
    "        optimizer=keras.optimizers.Adam(),  # Optimizer\n",
    "        # Loss function to minimize\n",
    "        loss='binary_crossentropy',\n",
    "        # List of metrics to monitor\n",
    "        metrics=['binary_accuracy'],\n",
    "    )\n",
    "    N = Y.shape[0]\n",
    "    Y_mat = np.transpose(np.reshape(Y,[N,256,8]),[0,2,1])\n",
    "    Y = np.reshape(Y,[N,1,256,8])\n",
    "\n",
    "    Y_t = np.zeros([N,1,256,8])\n",
    "    Y_t[:,0,:,0] = Y_mat[:,0,:]\n",
    "    Y_t[:,0,:,1] = Y_mat[:,1,:]\n",
    "    Y_t[:,0,:,2] = Y_mat[:,4,:]\n",
    "    Y_t[:,0,:,3] = Y_mat[:,5,:]\n",
    "\n",
    "    Y_t[:,0,:,4] = Y_mat[:,2,:]\n",
    "    Y_t[:,0,:,5] = Y_mat[:,3,:]\n",
    "    Y_t[:,0,:,6] = Y_mat[:,6,:]\n",
    "    Y_t[:,0,:,7] = Y_mat[:,7,:]\n",
    "    Y = Y_t\n",
    "    model.load_weights(\".model_\"+str(Pilotnum)+\".best.h5\")\n",
    "\n",
    "    X_out = model.predict(Y, batch_size=128)\n",
    "    \n",
    "    X_pre = np.array(np.floor(X_out + 0.5), dtype=np.bool)\n",
    "    return X_pre"
   ]
  },
  {
   "cell_type": "code",
   "execution_count": 13,
   "metadata": {},
   "outputs": [
    {
     "name": "stdout",
     "output_type": "stream",
     "text": [
      "Pilot8 : The accuracy is 0.7910966796875\n",
      "Pilot32 : The accuracy is 0.8946875\n"
     ]
    }
   ],
   "source": [
    "###########################以下仅为信道数据载入和链路使用范例############\n",
    "\n",
    "data1=open('H_val.bin','rb')\n",
    "H1=struct.unpack('f'*2*2*2*32*2000,data1.read(4*2*2*2*32*2000))\n",
    "H1=np.reshape(H1,[2000,2,4,32])\n",
    "H=H1[:,1,:,:]+1j*H1[:,0,:,:]\n",
    "\n",
    "\n",
    "def generatorXY(batch, H,SNR,Pilotnum):\n",
    "    input_labels = []\n",
    "    input_samples = []\n",
    "    input_H = []\n",
    "    for row in range(0, batch):\n",
    "        mode = np.random.randint(0, 3)\n",
    "        #mode = 0\n",
    "        SNRdb = np.random.randint(0, 5)+SNR\n",
    "        bits0 = np.random.binomial(n=1, p=0.5, size=(128 * 4,))\n",
    "        bits1 = np.random.binomial(n=1, p=0.5, size=(128 * 4,))\n",
    "        X = [bits0, bits1]\n",
    "        temp = np.random.randint(0, len(H))\n",
    "        HH = H[temp]\n",
    "        YY = MIMO(X, HH, SNRdb, mode, Pilotnum) / 20  ###\n",
    "        XX = np.concatenate((bits0, bits1), 0)\n",
    "        input_labels.append(XX)\n",
    "        input_samples.append(YY)\n",
    "        input_H.append(HH)\n",
    "    batch_y = np.asarray(input_samples)\n",
    "    batch_x = np.asarray(input_labels)\n",
    "    batch_H = np.asarray(input_H)\n",
    "    return batch_y, batch_x\n",
    "N = 1000\n",
    "\n",
    "Y, X = generatorXY(N, H,8,8)\n",
    "X_pre = decode(Y,8)\n",
    "acc = np.sum(X_pre == X)/N/1024\n",
    "print('Pilot8 : The accuracy is',acc)\n",
    "\n",
    "Y, X = generatorXY(N, H,8,32)\n",
    "X_pre = decode(Y,32)\n",
    "acc = np.sum(X_pre == X)/N/1024\n",
    "print('Pilot32 : The accuracy is',acc)"
   ]
  },
  {
   "cell_type": "code",
   "execution_count": 14,
   "metadata": {},
   "outputs": [],
   "source": [
    "Y_1 = np.loadtxt('Y_1.csv', delimiter=',')\n",
    "#Y_2 = np.loadtxt('Y_2.csv', delimiter=',')\n",
    "\n",
    "X_pre_1 = decode(Y_1,32)\n",
    "#X_pre_2 = decode(Y_2,8)\n",
    "\n",
    "X_pre_1.tofile('X_pre_1.bin')\n",
    "#X_pre_2.tofile('X_pre_2.bin')"
   ]
  },
  {
   "cell_type": "code",
   "execution_count": null,
   "metadata": {},
   "outputs": [],
   "source": []
  }
 ],
 "metadata": {
  "kernelspec": {
   "display_name": "Python [conda env:tf2]",
   "language": "python",
   "name": "conda-env-tf2-py"
  },
  "language_info": {
   "codemirror_mode": {
    "name": "ipython",
    "version": 3
   },
   "file_extension": ".py",
   "mimetype": "text/x-python",
   "name": "python",
   "nbconvert_exporter": "python",
   "pygments_lexer": "ipython3",
   "version": "3.7.4"
  }
 },
 "nbformat": 4,
 "nbformat_minor": 2
}
