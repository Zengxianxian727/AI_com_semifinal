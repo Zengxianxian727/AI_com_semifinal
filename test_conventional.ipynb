{
 "cells": [
  {
   "cell_type": "code",
   "execution_count": 1,
   "metadata": {},
   "outputs": [],
   "source": [
    "import tensorflow as tf\n",
    "import numpy as np\n",
    "from tensorflow import keras\n",
    "from utils import *\n",
    "import struct\n",
    "from math import *"
   ]
  },
  {
   "cell_type": "code",
   "execution_count": 2,
   "metadata": {},
   "outputs": [],
   "source": [
    "###########################以下仅为信道数据载入和链路使用范例############\n",
    "data1=open('H.bin','rb')\n",
    "H1=struct.unpack('f'*2*2*2*32*320000,data1.read(4*2*2*2*32*320000))\n",
    "H1=np.reshape(H1,[320000,2,4,32])\n",
    "H=H1[:,1,:,:]+1j*H1[:,0,:,:]\n",
    "\n",
    "Htest=H[300000:,:,:]\n",
    "H=H[:300000,:,:]"
   ]
  },
  {
   "cell_type": "code",
   "execution_count": 3,
   "metadata": {},
   "outputs": [],
   "source": [
    "\n",
    "def generatorXY(batch, H,SNR):\n",
    "    input_labels = []\n",
    "    input_samples = []\n",
    "    input_H = []\n",
    "    for row in range(0, batch):\n",
    "        if row%10000==0:\n",
    "            print(row)\n",
    "        mode = np.random.randint(0, 3)\n",
    "        #mode = 0\n",
    "        SNRdb = np.random.randint(0, 5)+SNR\n",
    "        bits0 = np.random.binomial(n=1, p=0.5, size=(128 * 4,))\n",
    "        bits1 = np.random.binomial(n=1, p=0.5, size=(128 * 4,))\n",
    "        X = [bits0, bits1]\n",
    "        temp = np.random.randint(0, len(H))\n",
    "        HH = H[temp]\n",
    "        YY = MIMO(X, HH, SNRdb, mode, Pilotnum) / 20  ###\n",
    "        XX = np.concatenate((bits0, bits1), 0)\n",
    "        input_labels.append(XX)\n",
    "        input_samples.append(YY)\n",
    "        input_H.append(HH)\n",
    "    batch_y = np.asarray(input_samples)\n",
    "    batch_x = np.asarray(input_labels)\n",
    "    batch_H = np.asarray(input_H)\n",
    "    \n",
    "    Y_mat = np.transpose(np.reshape(batch_y,[batch,256,8]),[0,2,1])\n",
    "    Y_pilot = Y_mat[:,[0,1,4,5],:].reshape(batch,1024)\n",
    "    out_H = np.zeros([batch,4,32,2])\n",
    "    out_H[:,:,:,0] = np.real(batch_H)\n",
    "    out_H[:,:,:,1] = np.imag(batch_H)\n",
    "    return Y_pilot, out_H\n"
   ]
  },
  {
   "cell_type": "code",
   "execution_count": 4,
   "metadata": {},
   "outputs": [
    {
     "name": "stdout",
     "output_type": "stream",
     "text": [
      "0\n",
      "(100, 1024)\n",
      "(100, 4, 32, 2)\n"
     ]
    }
   ],
   "source": [
    "K = 256\n",
    "Pilotnum=32\n",
    "N = 100\n",
    "Y_pilot, HH = generatorXY(N, H,8)\n",
    "print(Y_pilot.shape)\n",
    "print(HH.shape)"
   ]
  },
  {
   "cell_type": "code",
   "execution_count": 7,
   "metadata": {},
   "outputs": [
    {
     "name": "stdout",
     "output_type": "stream",
     "text": [
      "0\n",
      "10000\n",
      "20000\n",
      "30000\n",
      "40000\n",
      "50000\n",
      "60000\n",
      "70000\n",
      "80000\n",
      "90000\n",
      "100000\n",
      "110000\n",
      "120000\n",
      "130000\n",
      "140000\n",
      "150000\n",
      "160000\n",
      "170000\n",
      "180000\n",
      "190000\n"
     ]
    }
   ],
   "source": [
    "#mode=0\n",
    "#SNRdb=10\n",
    "K = 256\n",
    "Pilotnum=32\n",
    "N = 200000\n",
    "Y_pilot, HH = generatorXY(N, H,8)\n",
    "np.save('H_'+str(Pilotnum)+'.npy',HH)\n",
    "np.save('Y_pilot_'+str(Pilotnum)+'.npy',Y_pilot)"
   ]
  },
  {
   "cell_type": "code",
   "execution_count": 8,
   "metadata": {},
   "outputs": [
    {
     "name": "stdout",
     "output_type": "stream",
     "text": [
      "0\n",
      "10000\n",
      "20000\n",
      "30000\n",
      "40000\n",
      "50000\n",
      "60000\n",
      "70000\n",
      "80000\n",
      "90000\n",
      "100000\n",
      "110000\n",
      "120000\n",
      "130000\n",
      "140000\n",
      "150000\n",
      "160000\n",
      "170000\n",
      "180000\n",
      "190000\n"
     ]
    }
   ],
   "source": [
    "#mode=0\n",
    "#SNRdb=10\n",
    "K = 256\n",
    "Pilotnum=8\n",
    "N = 200000\n",
    "Y_pilot, HH = generatorXY(N, H,8)\n",
    "np.save('H_'+str(Pilotnum)+'.npy',HH)\n",
    "np.save('Y_pilot_'+str(Pilotnum)+'.npy',Y_pilot)"
   ]
  },
  {
   "cell_type": "code",
   "execution_count": null,
   "metadata": {},
   "outputs": [],
   "source": []
  }
 ],
 "metadata": {
  "kernelspec": {
   "display_name": "Python [conda env:tf2]",
   "language": "python",
   "name": "conda-env-tf2-py"
  },
  "language_info": {
   "codemirror_mode": {
    "name": "ipython",
    "version": 3
   },
   "file_extension": ".py",
   "mimetype": "text/x-python",
   "name": "python",
   "nbconvert_exporter": "python",
   "pygments_lexer": "ipython3",
   "version": "3.7.4"
  }
 },
 "nbformat": 4,
 "nbformat_minor": 2
}
