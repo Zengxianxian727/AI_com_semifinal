{
 "cells": [
  {
   "cell_type": "code",
   "execution_count": 4,
   "metadata": {},
   "outputs": [],
   "source": [
    "import os\n",
    "os.environ[\"CUDA_DEVICE_ORDER\"] = \"PCI_BUS_ID\"\n",
    "os.environ[\"CUDA_VISIBLE_DEVICES\"] = \"0\"  # 使用第二块GPU（从0开始）\n",
    "import tensorflow as tf\n",
    "from tensorflow import keras\n",
    "import struct\n",
    "import numpy as np"
   ]
  },
  {
   "cell_type": "code",
   "execution_count": 5,
   "metadata": {},
   "outputs": [],
   "source": [
    "def rd_pre(Pilotnum,num):\n",
    "    if Pilotnum==8:\n",
    "        index = 2\n",
    "    else:\n",
    "        index = 1\n",
    "    data1=open('X_pre_'+str(index)+'_'+str(num)+'.bin','rb')\n",
    "    H1=struct.unpack('b'*1024*10000,data1.read(1024*10000))\n",
    "    H1=np.reshape(H1,[10000,1024])\n",
    "    return H1\n"
   ]
  },
  {
   "cell_type": "code",
   "execution_count": 44,
   "metadata": {},
   "outputs": [],
   "source": [
    "\n"
   ]
  },
  {
   "cell_type": "code",
   "execution_count": 43,
   "metadata": {},
   "outputs": [
    {
     "data": {
      "text/plain": [
       "0.03827529296875"
      ]
     },
     "execution_count": 43,
     "metadata": {},
     "output_type": "execute_result"
    }
   ],
   "source": [
    "np.sum(rd_pre(8,3) != rd_pre(8,4))/(1024*10000)"
   ]
  },
  {
   "cell_type": "code",
   "execution_count": 48,
   "metadata": {},
   "outputs": [
    {
     "data": {
      "text/plain": [
       "array([[ True,  True,  True, ...,  True,  True,  True],\n",
       "       [ True,  True,  True, ...,  True,  True,  True],\n",
       "       [ True,  True,  True, ...,  True,  True,  True],\n",
       "       ...,\n",
       "       [ True,  True,  True, ...,  True,  True,  True],\n",
       "       [ True,  True,  True, ...,  True,  True,  True],\n",
       "       [ True,  True,  True, ...,  True,  True,  True]])"
      ]
     },
     "execution_count": 48,
     "metadata": {},
     "output_type": "execute_result"
    }
   ],
   "source": [
    "X1 = rd_pre(8,0)\n",
    "X1 = np.array(np.floor(X1 + 0.5), dtype=np.bool)\n",
    "X1.tofile('XX.bin')\n",
    "data1=open('XX.bin','rb')\n",
    "X2=struct.unpack('b'*1024*10000,data1.read(1024*10000))\n",
    "X2=np.reshape(X2,[10000,1024])\n",
    "X2==X1"
   ]
  },
  {
   "cell_type": "code",
   "execution_count": 60,
   "metadata": {},
   "outputs": [],
   "source": [
    "X_2 = np.zeros([10000,1024])\n",
    "for i in range(5):\n",
    "    X_2 = X_2+rd_pre(8,i)\n",
    "X_2[X_2<3]=0\n",
    "X_2[X_2>2]=1\n",
    "X_2 = np.array(np.floor(X_2 + 0.5), dtype=np.bool)    \n",
    "X_2.tofile('X_pre_2.bin')"
   ]
  },
  {
   "cell_type": "code",
   "execution_count": 58,
   "metadata": {},
   "outputs": [
    {
     "data": {
      "text/plain": [
       "0.02009453125"
      ]
     },
     "execution_count": 58,
     "metadata": {},
     "output_type": "execute_result"
    }
   ],
   "source": [
    "np.sum(X_2 != rd_pre(8,0))/(1024*10000)"
   ]
  },
  {
   "cell_type": "code",
   "execution_count": 65,
   "metadata": {},
   "outputs": [
    {
     "data": {
      "text/plain": [
       "0.00794052734375"
      ]
     },
     "execution_count": 65,
     "metadata": {},
     "output_type": "execute_result"
    }
   ],
   "source": [
    "X_1 = np.zeros([10000,1024])\n",
    "for i in range(5):\n",
    "    X_1 = X_1+rd_pre(32,i)\n",
    "X_1[X_1<3]=0\n",
    "X_1[X_1>2]=1\n",
    "X_1 = np.array(np.floor(X_1 + 0.5), dtype=np.bool)    \n",
    "X_1.tofile('X_pre_1.bin')\n",
    "np.sum(X_1 != rd_pre(32,4))/(1024*10000)"
   ]
  },
  {
   "cell_type": "code",
   "execution_count": null,
   "metadata": {},
   "outputs": [],
   "source": []
  }
 ],
 "metadata": {
  "kernelspec": {
   "display_name": "Python [conda env:tf2]",
   "language": "python",
   "name": "conda-env-tf2-py"
  },
  "language_info": {
   "codemirror_mode": {
    "name": "ipython",
    "version": 3
   },
   "file_extension": ".py",
   "mimetype": "text/x-python",
   "name": "python",
   "nbconvert_exporter": "python",
   "pygments_lexer": "ipython3",
   "version": "3.7.4"
  }
 },
 "nbformat": 4,
 "nbformat_minor": 2
}
