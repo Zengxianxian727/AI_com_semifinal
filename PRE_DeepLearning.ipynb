{
 "cells": [
  {
   "cell_type": "code",
   "execution_count": 1,
   "metadata": {},
   "outputs": [],
   "source": [
    "import tensorflow as tf\n",
    "import numpy as np\n",
    "from tensorflow import keras\n",
    "from utils import *\n",
    "import struct\n",
    "from math import *\n",
    "from model_define import MyModel,NMSE_loss"
   ]
  },
  {
   "cell_type": "code",
   "execution_count": 2,
   "metadata": {},
   "outputs": [],
   "source": [
    "Y_1 = np.loadtxt('Y_1.csv', delimiter=',')\n",
    "Y_2 = np.loadtxt('Y_2.csv', delimiter=',')"
   ]
  },
  {
   "cell_type": "code",
   "execution_count": 3,
   "metadata": {},
   "outputs": [],
   "source": [
    "def LMMSE(H_e,y_e):\n",
    "    a = H_e*H_e.H + 1/10*np.mat(np.eye(2))\n",
    "    W = H_e.H*a.I\n",
    "    return (W*y_e).reshape(2)\n",
    "def ZF(H_e,y_e):\n",
    "    return (H_e.I*y_e).reshape(2)\n",
    "def deModulation(Q):\n",
    "    Qr=np.real(Q)\n",
    "    Qi=np.imag(Q)\n",
    "    bits=np.zeros([Q.shape[0],2])\n",
    "    bits[:,0]=Qr>0\n",
    "    bits[:,1]=Qi>0\n",
    "    return bits.reshape([-1])  # This is just for QAM modulation\n",
    "def decoder(Y,Pilotnum,K):\n",
    "    N = Y.shape[0]\n",
    "    mu = 2\n",
    "    P = Pilotnum * 2\n",
    "    Pilot_file_name = 'Pilot_' + str(P)\n",
    "    bits = np.loadtxt(Pilot_file_name, delimiter=',')\n",
    "    pilotValue = Modulation(bits, mu)\n",
    "    pilotValue0 = pilotValue[0:P:2]\n",
    "    pilotValue1 = pilotValue[1:P:2]\n",
    "    \n",
    "    Y_mat = np.transpose(np.reshape(Y,[N,256,8]),[0,2,1])\n",
    "    Y_pilot = Y_mat[:,[0,1,4,5],:].reshape(N,1024)\n",
    "    \n",
    "    Y_antena0 = Y_mat[:,0:4,:]\n",
    "    Y_antena0_pilot = Y_antena0[:,0,:]+1j*Y_antena0[:,1,:]\n",
    "\n",
    "    Y_antena1 = Y_mat[:,4:8,:]\n",
    "    Y_antena1_pilot = Y_antena1[:,0,:]+1j*Y_antena1[:,1,:]\n",
    "    \n",
    "    Y_antena0_data = Y_antena0[:,2,:]+1j*Y_antena0[:,3,:]\n",
    "    Y_antena1_data = Y_antena1[:,2,:]+1j*Y_antena1[:,3,:]\n",
    "\n",
    "    y = np.zeros([N,K,2]).astype(complex)\n",
    "    y[:,:,0] = Y_antena0_data\n",
    "    y[:,:,1] = Y_antena1_data\n",
    "    \n",
    "    model_input = keras.Input(shape=(1024))\n",
    "    model_output = MyModel(model_input)\n",
    "    model = keras.Model(inputs=model_input, outputs=model_output)\n",
    "    model.compile(optimizer='adam', loss=NMSE_loss)\n",
    "    model.load_weights(\".model_\"+str(Pilotnum)+\".best.h5\")\n",
    "    print(Y_pilot.shape)\n",
    "    out_H = model.predict(Y_pilot, batch_size=128)/20\n",
    "    H_est = out_H[:,:,:,0]+1j*out_H[:,:,:,1]\n",
    "    H_est00_t = np.hstack((H_est[:,0,:],np.zeros([N,K-32])))\n",
    "    H_est00 = np.fft.fft(H_est00_t)\n",
    "    H_est01_t = np.hstack((H_est[:,1,:],np.zeros([N,K-32])))\n",
    "    H_est01 = np.fft.fft(H_est01_t)\n",
    "    H_est10_t = np.hstack((H_est[:,2,:],np.zeros([N,K-32])))\n",
    "    H_est10 = np.fft.fft(H_est10_t)\n",
    "    H_est11_t = np.hstack((H_est[:,3,:],np.zeros([N,K-32])))\n",
    "    H_est11 = np.fft.fft(H_est11_t)\n",
    "\n",
    "    H_MIMO = np.zeros([N,K,2,2]).astype(complex)\n",
    "    H_MIMO[:,:,0,0] = H_est00\n",
    "    H_MIMO[:,:,1,0] = H_est01\n",
    "    H_MIMO[:,:,0,1] = H_est10\n",
    "    H_MIMO[:,:,1,1] = H_est11\n",
    "    \n",
    "    x = np.zeros([N,K,2]).astype(complex)\n",
    "    for i in range(N):\n",
    "        for j in range(K):\n",
    "            H_e = np.mat(H_MIMO[i,j,:,:])\n",
    "            y_e = np.mat(y[i,j,:]).T\n",
    "            x[i,j,:] = LMMSE(H_e,y_e)\n",
    "            \n",
    "    X_est = np.zeros([N,1024])\n",
    "    for i in range(N):\n",
    "        X_est[i,0:512] = deModulation(x[i,:,0])\n",
    "        X_est[i,512:1024] = deModulation(x[i,:,1])\n",
    "    return X_est"
   ]
  },
  {
   "cell_type": "code",
   "execution_count": 4,
   "metadata": {},
   "outputs": [
    {
     "name": "stdout",
     "output_type": "stream",
     "text": [
      "(10000, 1024)\n",
      "(10000, 1024)\n"
     ]
    }
   ],
   "source": [
    "K = 256\n",
    "X_pre_1 = decoder(Y_1,32,K)\n",
    "X_pre_2 = decoder(Y_2,8,K)"
   ]
  },
  {
   "cell_type": "code",
   "execution_count": 5,
   "metadata": {},
   "outputs": [],
   "source": [
    "X_pre_1 = np.array(np.floor(X_pre_1 + 0.5), dtype=np.bool)\n",
    "X_pre_2 = np.array(np.floor(X_pre_2 + 0.5), dtype=np.bool)"
   ]
  },
  {
   "cell_type": "code",
   "execution_count": 6,
   "metadata": {},
   "outputs": [],
   "source": [
    "X_pre_1.tofile('X_pre_1.bin')\n",
    "X_pre_2.tofile('X_pre_2.bin')"
   ]
  },
  {
   "cell_type": "code",
   "execution_count": null,
   "metadata": {},
   "outputs": [],
   "source": []
  }
 ],
 "metadata": {
  "kernelspec": {
   "display_name": "Python [conda env:tf2]",
   "language": "python",
   "name": "conda-env-tf2-py"
  },
  "language_info": {
   "codemirror_mode": {
    "name": "ipython",
    "version": 3
   },
   "file_extension": ".py",
   "mimetype": "text/x-python",
   "name": "python",
   "nbconvert_exporter": "python",
   "pygments_lexer": "ipython3",
   "version": "3.7.4"
  }
 },
 "nbformat": 4,
 "nbformat_minor": 2
}
